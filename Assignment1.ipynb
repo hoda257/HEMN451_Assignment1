{
 "cells": [
  {
   "cell_type": "code",
   "execution_count": 1,
   "metadata": {},
   "outputs": [],
   "source": [
    "import numpy as np\n",
    "import sys\n",
    "import random\n",
    "import math\n",
    "import matplotlib.pyplot as plt\n",
    "from sklearn.datasets import make_classification\n",
    "from sklearn.model_selection import train_test_split\n",
    "from sklearn.metrics import accuracy_score"
   ]
  },
  {
   "cell_type": "markdown",
   "metadata": {},
   "source": [
    "# Functions implementation "
   ]
  },
  {
   "cell_type": "code",
   "execution_count": 2,
   "metadata": {},
   "outputs": [],
   "source": [
    "def Batch_Perceptron (x,y):\n",
    "    LR = 1\n",
    "    NumberOfFeatures = len(x)\n",
    "    TrainingSet_length = x.shape[1]\n",
    "    Weights = np.array([float(random.randrange(-100, 100))/100 for _ in range(x.shape[1])])\n",
    "    Delta =  np.ones(TrainingSet_length)\n",
    "    count_Weights = 0\n",
    "    Every_Delta = []\n",
    "    while np.linalg.norm(Delta,1) > sys.float_info.epsilon:\n",
    "        Delta =  np.zeros(TrainingSet_length)\n",
    "        for item in range(NumberOfFeatures):\n",
    "            u = Weights.dot(x[item])\n",
    "            if y[item]*u <= 0:\n",
    "                Delta = Delta - (y[item]*x[item])\n",
    "                \n",
    "        Delta = Delta/NumberOfFeatures\n",
    "        Every_Delta.append(np.linalg.norm(Delta,1))\n",
    "        Weights = Weights - (LR*Delta)\n",
    "        count_Weights +=1\n",
    "    return Weights,count_Weights,Delta,Every_Delta"
   ]
  },
  {
   "cell_type": "code",
   "execution_count": 3,
   "metadata": {},
   "outputs": [],
   "source": [
    "def Online_Batch_Perceptron (x,y):\n",
    "    LR = 1\n",
    "    NumberOfFeatures = len(x)\n",
    "    TrainingSet_length = x.shape[1]\n",
    "    Weights = np.array([float(random.randrange(-100, 100))/100 for _ in range(x.shape[1])])\n",
    "    Delta =  np.ones(TrainingSet_length)\n",
    "    count = 0\n",
    "    count_Delta   = 0\n",
    "    Every_Delta = []\n",
    "    while np.linalg.norm(Delta,1) > sys.float_info.epsilon:\n",
    "        Delta =  np.zeros(TrainingSet_length)\n",
    "        count_Delta += 1\n",
    "        for item in range(NumberOfFeatures):\n",
    "            u = Weights.dot(x[item])\n",
    "            if y[item]*u <= 0:\n",
    "                Delta = Delta - (y[item]*x[item])\n",
    "                Delta = Delta/NumberOfFeatures\n",
    "                Weights = Weights - (LR*Delta)\n",
    "                count +=1\n",
    "        Every_Delta.append(np.linalg.norm(Delta,1))\n",
    "    return Weights,count,Delta,Every_Delta,count_Delta"
   ]
  },
  {
   "cell_type": "markdown",
   "metadata": {},
   "source": [
    "# Problem 1"
   ]
  },
  {
   "cell_type": "markdown",
   "metadata": {},
   "source": [
    "### Batch_Perceptron algorithm "
   ]
  },
  {
   "cell_type": "code",
   "execution_count": 99,
   "metadata": {},
   "outputs": [
    {
     "name": "stdout",
     "output_type": "stream",
     "text": [
      "wights of Batch_Perceptron algorithm :  [ -5.27  484.515]\n",
      "number of each time algorithm updated model weights of Batch_Perceptron algorithm :  2421\n",
      "Number of epochs needed to achieve almost zero error - Batch_Perceptron algorithm :  2421\n"
     ]
    },
    {
     "data": {
      "text/plain": [
       "[<matplotlib.lines.Line2D at 0x1b70907e788>]"
      ]
     },
     "execution_count": 99,
     "metadata": {},
     "output_type": "execute_result"
    },
    {
     "data": {
      "image/png": "[encoded data removed]",
      "text/plain": [
       "<Figure size 432x288 with 1 Axes>"
      ]
     },
     "metadata": {
      "needs_background": "light"
     },
     "output_type": "display_data"
    }
   ],
   "source": [
    "x = np.array([[50,55,70,80,130,150, 155,160],[1,1,1,1,1,1,1,1]]).T\n",
    "y = np.array([1,1,1,1,-1,-1,-1,-1])\n",
    "\n",
    "weights, count_w, delta,Every_Delta = Batch_Perceptron(x, y)\n",
    "\n",
    "print(\"wights of Batch_Perceptron algorithm : \",weights)\n",
    "print(\"number of each time algorithm updated model weights of Batch_Perceptron algorithm : \",count_w)\n",
    "print(\"Number of epochs needed to achieve almost zero error - Batch_Perceptron algorithm : \",count_w)\n",
    "\n",
    "Every_Delta = np.unique(Every_Delta)\n",
    "\n",
    "plt.plot(np.flip(np.arange(0,len(Every_Delta))),Every_Delta)"
   ]
  },
  {
   "cell_type": "markdown",
   "metadata": {},
   "source": [
    "### Online_Batch_Perceptron algorithm"
   ]
  },
  {
   "cell_type": "code",
   "execution_count": 100,
   "metadata": {},
   "outputs": [
    {
     "name": "stdout",
     "output_type": "stream",
     "text": [
      "wights of Online_Batch_Perceptron algorithm :  [-0.13070313 10.67917969]\n",
      "number of each time algorithm updated model weights of Online_Batch_Perceptron algorithm :  203\n",
      "Number of epochs needed to achieve almost zero error - Online_Batch_Perceptron algorithm :  67\n"
     ]
    },
    {
     "data": {
      "text/plain": [
       "[<matplotlib.lines.Line2D at 0x1b7090e5508>]"
      ]
     },
     "execution_count": 100,
     "metadata": {},
     "output_type": "execute_result"
    },
    {
     "data": {
      "image/png": "[encoded data removed]",
      "text/plain": [
       "<Figure size 432x288 with 1 Axes>"
      ]
     },
     "metadata": {
      "needs_background": "light"
     },
     "output_type": "display_data"
    }
   ],
   "source": [
    "x = np.array([[50,55,70,80,130,150, 155,160],[1,1,1,1,1,1,1,1]]).T\n",
    "y = np.array([1,1,1,1,-1,-1,-1,-1])\n",
    "\n",
    "weights, count, delta,Every_Delta,count_d = Online_Batch_Perceptron(x, y)\n",
    "\n",
    "print(\"wights of Online_Batch_Perceptron algorithm : \",weights)\n",
    "print(\"number of each time algorithm updated model weights of Online_Batch_Perceptron algorithm : \",count)\n",
    "print(\"Number of epochs needed to achieve almost zero error - Online_Batch_Perceptron algorithm : \",count_d)\n",
    "\n",
    "Every_Delta = np.unique(Every_Delta)\n",
    "\n",
    "plt.plot(np.flip(np.arange(0,len(Every_Delta))),Every_Delta)"
   ]
  },
  {
   "cell_type": "markdown",
   "metadata": {},
   "source": [
    "# Problem 4"
   ]
  },
  {
   "cell_type": "markdown",
   "metadata": {},
   "source": [
    "### Batch_Perceptron algorithm"
   ]
  },
  {
   "cell_type": "code",
   "execution_count": 101,
   "metadata": {},
   "outputs": [
    {
     "name": "stdout",
     "output_type": "stream",
     "text": [
      "wights of Batch_Perceptron algorithm :  [-64.02   32.355  63.52    0.145]\n",
      "number of each time algorithm updated model weights of Batch_Perceptron algorithm :  6\n",
      "Number of epochs needed to achieve almost zero error - Batch_Perceptron algorithm :  6\n"
     ]
    },
    {
     "data": {
      "text/plain": [
       "[<matplotlib.lines.Line2D at 0x1b70914cdc8>]"
      ]
     },
     "execution_count": 101,
     "metadata": {},
     "output_type": "execute_result"
    },
    {
     "data": {
      "image/png": "[encoded data removed]",
      "text/plain": [
       "<Figure size 432x288 with 1 Axes>"
      ]
     },
     "metadata": {
      "needs_background": "light"
     },
     "output_type": "display_data"
    }
   ],
   "source": [
    "x = np.array([[0,0,0,255,0,255,255,255],[0,0,255,0,255,255,0,255],[0,255,0,0,255,0,255,255],[1,1,1,1,1,1,1,1]]).T\n",
    "y = np.array([1,1,1,-1,1,-1,-1,1])\n",
    "\n",
    "weights, count_w, delta,Every_Delta = Batch_Perceptron(x, y)\n",
    "\n",
    "print(\"wights of Batch_Perceptron algorithm : \",weights)\n",
    "print(\"number of each time algorithm updated model weights of Batch_Perceptron algorithm : \",count_w)\n",
    "print(\"Number of epochs needed to achieve almost zero error - Batch_Perceptron algorithm : \",count_w)\n",
    "\n",
    "plt.plot(np.arange(0,len(Every_Delta)),Every_Delta)"
   ]
  },
  {
   "cell_type": "markdown",
   "metadata": {},
   "source": [
    "### Online_Batch_Perceptron algorithm "
   ]
  },
  {
   "cell_type": "code",
   "execution_count": 102,
   "metadata": {
    "scrolled": false
   },
   "outputs": [
    {
     "name": "stdout",
     "output_type": "stream",
     "text": [
      "wights of Online_Batch_Perceptron algorithm :  [-4.04017969e+01  2.75025781e+01  3.18053027e+01  1.80969238e-02]\n",
      "number of each time algorithm updated model weights of Online_Batch_Perceptron algorithm :  8\n",
      "Number of epochs needed to achieve almost zero error - Online_Batch_Perceptron algorithm :  4\n"
     ]
    },
    {
     "data": {
      "text/plain": [
       "[<matplotlib.lines.Line2D at 0x1b7091b88c8>]"
      ]
     },
     "execution_count": 102,
     "metadata": {},
     "output_type": "execute_result"
    },
    {
     "data": {
      "image/png": "[encoded data removed]",
      "text/plain": [
       "<Figure size 432x288 with 1 Axes>"
      ]
     },
     "metadata": {
      "needs_background": "light"
     },
     "output_type": "display_data"
    }
   ],
   "source": [
    "x = np.array([[0,0,0,255,0,255,255,255],[0,0,255,0,255,255,0,255],[0,255,0,0,255,0,255,255],[1,1,1,1,1,1,1,1]]).T\n",
    "y = np.array([1,1,1,-1,1,-1,-1,1])\n",
    "\n",
    "weights, count, delta,Every_Delta,count_d = Online_Batch_Perceptron(x, y)\n",
    "\n",
    "print(\"wights of Online_Batch_Perceptron algorithm : \",weights)\n",
    "print(\"number of each time algorithm updated model weights of Online_Batch_Perceptron algorithm : \",count)\n",
    "print(\"Number of epochs needed to achieve almost zero error - Online_Batch_Perceptron algorithm : \",count_d)\n",
    "\n",
    "plt.plot(np.arange(0,len(Every_Delta)),Every_Delta)"
   ]
  },
  {
   "cell_type": "markdown",
   "metadata": {},
   "source": [
    "# Repeating on randomly generated data without bias "
   ]
  },
  {
   "cell_type": "markdown",
   "metadata": {},
   "source": [
    "### Online_Batch_Perceptron algorithm  -> Train set"
   ]
  },
  {
   "cell_type": "code",
   "execution_count": 103,
   "metadata": {
    "scrolled": false
   },
   "outputs": [
    {
     "name": "stdout",
     "output_type": "stream",
     "text": [
      "wights of Online_Batch_Perceptron algorithm :  [0.24610127 0.88789378]\n",
      "number of each time algorithm updated model weights of Online_Batch_Perceptron algorithm :  8\n",
      "Number of epochs needed to achieve almost zero error - Online_Batch_Perceptron algorithm :  3\n"
     ]
    },
    {
     "data": {
      "text/plain": [
       "[<matplotlib.lines.Line2D at 0x1b709211088>,\n",
       " <matplotlib.lines.Line2D at 0x1b709231188>]"
      ]
     },
     "execution_count": 103,
     "metadata": {},
     "output_type": "execute_result"
    },
    {
     "data": {
      "image/png": "[encoded data removed]",
      "text/plain": [
       "<Figure size 432x288 with 1 Axes>"
      ]
     },
     "metadata": {
      "needs_background": "light"
     },
     "output_type": "display_data"
    }
   ],
   "source": [
    "x,y = make_classification(n_samples=25,n_features=2,n_redundant = 0,n_informative=1,n_clusters_per_class=1)\n",
    "\n",
    "mask_for_y = y == 0\n",
    "y[mask_for_y] = - 1\n",
    "\n",
    "X_train, X_test, y_train, y_test = train_test_split(x, y, test_size=0.25)\n",
    "\n",
    "w = np.array([float(random.randrange(-100, 100))/100 for _ in range(x.shape[1])])\n",
    "\n",
    "weights, count_w, delta,Every_Delta,count_d = Online_Batch_Perceptron(X_train, y_train)\n",
    "\n",
    "print(\"wights of Online_Batch_Perceptron algorithm : \",weights)\n",
    "print(\"number of each time algorithm updated model weights of Online_Batch_Perceptron algorithm : \",count)\n",
    "print(\"Number of epochs needed to achieve almost zero error - Online_Batch_Perceptron algorithm : \",count_d)\n",
    "\n",
    "w1 = weights[0]\n",
    "w2 = weights[1]\n",
    "\n",
    "m = -w1 / w2\n",
    "\n",
    "plt.scatter(X_train[:,0],X_train[:,1],marker='o',c=y_train,edgecolor='k')\n",
    "\n",
    "plt.plot(X_train,m * X_train , \"g-\", linewidth=2)\n"
   ]
  },
  {
   "cell_type": "markdown",
   "metadata": {},
   "source": [
    "###  Online_Batch_Perceptron algorithm -> Test set"
   ]
  },
  {
   "cell_type": "code",
   "execution_count": 4,
   "metadata": {},
   "outputs": [],
   "source": [
    "sign = lambda x: math.copysign(1,x)"
   ]
  },
  {
   "cell_type": "code",
   "execution_count": 105,
   "metadata": {
    "scrolled": true
   },
   "outputs": [
    {
     "name": "stdout",
     "output_type": "stream",
     "text": [
      "accuracy of the model is :  1.0\n"
     ]
    },
    {
     "data": {
      "text/plain": [
       "[<matplotlib.lines.Line2D at 0x1b70925fb48>,\n",
       " <matplotlib.lines.Line2D at 0x1b70929ff08>]"
      ]
     },
     "execution_count": 105,
     "metadata": {},
     "output_type": "execute_result"
    },
    {
     "data": {
      "image/png": "[encoded data removed]",
      "text/plain": [
       "<Figure size 432x288 with 1 Axes>"
      ]
     },
     "metadata": {
      "needs_background": "light"
     },
     "output_type": "display_data"
    }
   ],
   "source": [
    "TrueValueOfY = y_test\n",
    "PredectedValueOfY = []\n",
    "for x in X_test:\n",
    "    PredectedValueOfY.append(sign(weights.dot(x)))\n",
    "\n",
    "accuracy = accuracy_score(TrueValueOfY, PredectedValueOfY)\n",
    "\n",
    "print(\"accuracy of the model is : \",accuracy)\n",
    "\n",
    "plt.scatter(X_test[:,0],X_test[:,1],marker='o',c=y_test,edgecolor='k')\n",
    "\n",
    "plt.plot(X_train,m * X_train , \"g-\", linewidth=2)"
   ]
  },
  {
   "cell_type": "markdown",
   "metadata": {},
   "source": [
    "# Repeating on randomly generated data without bias"
   ]
  },
  {
   "cell_type": "markdown",
   "metadata": {},
   "source": [
    "### Batch_Perceptron algorithm -> Train set"
   ]
  },
  {
   "cell_type": "code",
   "execution_count": 11,
   "metadata": {},
   "outputs": [
    {
     "name": "stdout",
     "output_type": "stream",
     "text": [
      "wights of Batch_Perceptron algorithm :  [-0.31459554  0.68142681]\n",
      "number of each time algorithm updated model weights of Batch_Perceptron algorithm :  3\n",
      "Number of epochs needed to achieve almost zero error - Batch_Perceptron algorithm :  3\n"
     ]
    },
    {
     "data": {
      "text/plain": [
       "[<matplotlib.lines.Line2D at 0x1ef21f642b0>,\n",
       " <matplotlib.lines.Line2D at 0x1ef2214ff28>]"
      ]
     },
     "execution_count": 11,
     "metadata": {},
     "output_type": "execute_result"
    },
    {
     "data": {
      "image/png": "[encoded data removed]",
      "text/plain": [
       "<Figure size 432x288 with 1 Axes>"
      ]
     },
     "metadata": {
      "needs_background": "light"
     },
     "output_type": "display_data"
    }
   ],
   "source": [
    "x,y = make_classification(n_samples=25,n_features=2,n_redundant = 0,n_informative=1,n_clusters_per_class=1)\n",
    "\n",
    "mask_for_y = y == 0\n",
    "y[mask_for_y] = - 1\n",
    "\n",
    "X_train, X_test, y_train, y_test = train_test_split(x, y, test_size=0.25)\n",
    "\n",
    "weights, count_w, delta,Every_Delta = Batch_Perceptron(X_train, y_train)\n",
    "\n",
    "print(\"wights of Batch_Perceptron algorithm : \",weights)\n",
    "print(\"number of each time algorithm updated model weights of Batch_Perceptron algorithm : \",count_w)\n",
    "print(\"Number of epochs needed to achieve almost zero error - Batch_Perceptron algorithm : \",count_w)\n",
    "\n",
    "w1 = weights[0]\n",
    "w2 = weights[1]\n",
    "\n",
    "m = -w1 / w2\n",
    "\n",
    "plt.scatter(X_train[:,0],X_train[:,1],marker='o',c=y_train,edgecolor='k')\n",
    "\n",
    "plt.plot(X_train,m * X_train , \"g-\", linewidth=2)\n"
   ]
  },
  {
   "cell_type": "markdown",
   "metadata": {},
   "source": [
    "### Batch_Perceptron algorithm -> Test set"
   ]
  },
  {
   "cell_type": "code",
   "execution_count": 12,
   "metadata": {},
   "outputs": [
    {
     "name": "stdout",
     "output_type": "stream",
     "text": [
      "accuracy of the model is :  1.0\n"
     ]
    },
    {
     "data": {
      "text/plain": [
       "[<matplotlib.lines.Line2D at 0x1ef221782e8>,\n",
       " <matplotlib.lines.Line2D at 0x1ef22003080>]"
      ]
     },
     "execution_count": 12,
     "metadata": {},
     "output_type": "execute_result"
    },
    {
     "data": {
      "image/png": "[encoded data removed]",
      "text/plain": [
       "<Figure size 432x288 with 1 Axes>"
      ]
     },
     "metadata": {
      "needs_background": "light"
     },
     "output_type": "display_data"
    }
   ],
   "source": [
    "TrueValueOfY = y_test\n",
    "PredectedValueOfY = []\n",
    "for x in X_test:\n",
    "    PredectedValueOfY.append(sign(weights.dot(x)))\n",
    "\n",
    "accuracy = accuracy_score(TrueValueOfY, PredectedValueOfY)\n",
    "\n",
    "print(\"accuracy of the model is : \",accuracy)\n",
    "plt.scatter(X_test[:,0],X_test[:,1],marker='o',c=y_test,edgecolor='k')\n",
    "\n",
    "plt.plot(X_train,m * X_train , \"g-\", linewidth=2)"
   ]
  },
  {
   "cell_type": "code",
   "execution_count": null,
   "metadata": {},
   "outputs": [],
   "source": []
  }
 ],
 "metadata": {
  "kernelspec": {
   "display_name": "Python 3",
   "language": "python",
   "name": "python3"
  },
  "language_info": {
   "codemirror_mode": {
    "name": "ipython",
    "version": 3
   },
   "file_extension": ".py",
   "mimetype": "text/x-python",
   "name": "python",
   "nbconvert_exporter": "python",
   "pygments_lexer": "ipython3",
   "version": "3.7.3"
  }
 },
 "nbformat": 4,
 "nbformat_minor": 2
}
